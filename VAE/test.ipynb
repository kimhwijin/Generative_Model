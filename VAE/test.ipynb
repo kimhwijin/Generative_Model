{
 "cells": [
  {
   "cell_type": "code",
   "execution_count": 11,
   "metadata": {},
   "outputs": [],
   "source": [
    "import torch\n",
    "from torch import nn\n",
    "import torch.functional as F"
   ]
  },
  {
   "cell_type": "code",
   "execution_count": 28,
   "metadata": {},
   "outputs": [],
   "source": [
    "hidden_dims = [32, 64, 128, 256, 512]\n",
    "latent_dim = 100\n",
    "module = []\n",
    "in_channels = 3\n",
    "for h_dim in hidden_dims:\n",
    "    module.append(nn.Sequential(\n",
    "        nn.Conv2d(in_channels, h_dim, 3, 2, 1),\n",
    "        nn.BatchNorm2d(h_dim),\n",
    "        nn.LeakyReLU()\n",
    "    ))\n",
    "    in_channels = h_dim\n",
    "encoder = nn.Sequential(*module)\n",
    "fc_mu = nn.Linear(512*4, latent_dim)\n",
    "fc_log_var = nn.Linear(512*4, latent_dim)\n",
    "\n",
    "decoder_input = nn.Linear(latent_dim, 512*4)\n",
    "\n",
    "module = []\n",
    "in_channels = 512\n",
    "for h_dim in reversed(hidden_dims[:-1]):\n",
    "    module.append(nn.Sequential(\n",
    "        nn.ConvTranspose2d(in_channels, h_dim, 3, 2, 1, 1),\n",
    "        nn.BatchNorm2d(h_dim),\n",
    "        nn.LeakyReLU()\n",
    "    ))\n",
    "    in_channels = h_dim\n",
    "decoder = nn.Sequential(*module)\n",
    "\n",
    "last = nn.Sequential(\n",
    "    nn.ConvTranspose2d(32, 32, 3, 2, 1, 1),\n",
    "    nn.BatchNorm2d(32),\n",
    "    nn.LeakyReLU(),\n",
    "    nn.Conv2d(32, 3, 3, padding=1),\n",
    "    nn.Tanh()\n",
    ")\n"
   ]
  },
  {
   "cell_type": "code",
   "execution_count": 29,
   "metadata": {},
   "outputs": [
    {
     "name": "stdout",
     "output_type": "stream",
     "text": [
      "torch.Size([32, 512, 2, 2])\n",
      "torch.Size([32, 2048])\n",
      "torch.Size([32, 100]) torch.Size([32, 100])\n",
      "torch.Size([32, 32, 32, 32])\n",
      "torch.Size([32, 3, 64, 64])\n"
     ]
    }
   ],
   "source": [
    "x = torch.randn(32, 3, 64, 64)\n",
    "x = encoder(x)\n",
    "print(x.size())\n",
    "x = torch.flatten(x, start_dim=1)\n",
    "print(x.size())\n",
    "mu = fc_mu(x)\n",
    "log_var = fc_log_var(x)\n",
    "print(mu.size(), log_var.size())\n",
    "x = torch.randn_like(mu) * torch.exp(0.5 * log_var) + mu\n",
    "x = decoder_input(x)\n",
    "x = x.view(-1, 512, 2,2)\n",
    "x = decoder(x)\n",
    "print(x.size())\n",
    "\n",
    "x = last(x)\n",
    "print(x.size())\n"
   ]
  },
  {
   "cell_type": "code",
   "execution_count": 35,
   "metadata": {},
   "outputs": [],
   "source": [
    "import tensorflow as tf"
   ]
  },
  {
   "cell_type": "code",
   "execution_count": 36,
   "metadata": {},
   "outputs": [
    {
     "name": "stdout",
     "output_type": "stream",
     "text": [
      "Downloading data from https://www.cs.toronto.edu/~kriz/cifar-100-python.tar.gz\n",
      "169009152/169001437 [==============================] - 26s 0us/step\n",
      "169017344/169001437 [==============================] - 26s 0us/step\n"
     ]
    }
   ],
   "source": [
    "x, y = tf.keras.datasets.cifar100.load_data()"
   ]
  },
  {
   "cell_type": "code",
   "execution_count": 5,
   "metadata": {},
   "outputs": [
    {
     "ename": "TypeError",
     "evalue": "size() received an invalid combination of arguments - got (list), but expected one of:\n * (int dim)\n      didn't match because some of the arguments have invalid types: (!list!)\n * ()\n      didn't match because some of the arguments have invalid types: (!list!)\n * (name dim)\n      didn't match because some of the arguments have invalid types: (!list!)\n",
     "output_type": "error",
     "traceback": [
      "\u001b[0;31m---------------------------------------------------------------------------\u001b[0m",
      "\u001b[0;31mTypeError\u001b[0m                                 Traceback (most recent call last)",
      "\u001b[1;32m/Users/hwijin/Documents/Code/ml/paper_impl/generative_model/VAE/test.ipynb 셀 6\u001b[0m in \u001b[0;36m<cell line: 2>\u001b[0;34m()\u001b[0m\n\u001b[1;32m      <a href='vscode-notebook-cell:/Users/hwijin/Documents/Code/ml/paper_impl/generative_model/VAE/test.ipynb#W5sZmlsZQ%3D%3D?line=0'>1</a>\u001b[0m \u001b[39mimport\u001b[39;00m \u001b[39mtorch\u001b[39;00m\n\u001b[0;32m----> <a href='vscode-notebook-cell:/Users/hwijin/Documents/Code/ml/paper_impl/generative_model/VAE/test.ipynb#W5sZmlsZQ%3D%3D?line=1'>2</a>\u001b[0m x \u001b[39m=\u001b[39m torch\u001b[39m.\u001b[39;49mrandn(\u001b[39m3\u001b[39;49m,\u001b[39m3\u001b[39;49m, \u001b[39m12\u001b[39;49m, \u001b[39m12\u001b[39;49m)\u001b[39m.\u001b[39;49msize([\u001b[39m1\u001b[39;49m, \u001b[39m2\u001b[39;49m,\u001b[39m3\u001b[39;49m])\n\u001b[1;32m      <a href='vscode-notebook-cell:/Users/hwijin/Documents/Code/ml/paper_impl/generative_model/VAE/test.ipynb#W5sZmlsZQ%3D%3D?line=2'>3</a>\u001b[0m \u001b[39mprint\u001b[39m(x)\n",
      "\u001b[0;31mTypeError\u001b[0m: size() received an invalid combination of arguments - got (list), but expected one of:\n * (int dim)\n      didn't match because some of the arguments have invalid types: (!list!)\n * ()\n      didn't match because some of the arguments have invalid types: (!list!)\n * (name dim)\n      didn't match because some of the arguments have invalid types: (!list!)\n"
     ]
    }
   ],
   "source": [
    "import torch\n",
    "x = torch.randn(3,3, 12, 12).size()\n"
   ]
  },
  {
   "cell_type": "code",
   "execution_count": null,
   "metadata": {},
   "outputs": [],
   "source": [
    "torch.randn(3 )"
   ]
  }
 ],
 "metadata": {
  "kernelspec": {
   "display_name": "Python 3.9.12 ('tf25')",
   "language": "python",
   "name": "python3"
  },
  "language_info": {
   "codemirror_mode": {
    "name": "ipython",
    "version": 3
   },
   "file_extension": ".py",
   "mimetype": "text/x-python",
   "name": "python",
   "nbconvert_exporter": "python",
   "pygments_lexer": "ipython3",
   "version": "3.9.12"
  },
  "orig_nbformat": 4,
  "vscode": {
   "interpreter": {
    "hash": "e2cd6330df87933e268d4b1d5797575da50d54717d7327a2d2e545dc9a1c6c69"
   }
  }
 },
 "nbformat": 4,
 "nbformat_minor": 2
}
