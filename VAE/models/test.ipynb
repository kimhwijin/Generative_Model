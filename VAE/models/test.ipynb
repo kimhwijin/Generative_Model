{
 "cells": [
  {
   "cell_type": "code",
   "execution_count": 2,
   "metadata": {},
   "outputs": [
    {
     "name": "stdout",
     "output_type": "stream",
     "text": [
      "torch.Size([3, 1, 64, 64]) torch.Size([3, 100]) torch.Size([3, 100])\n"
     ]
    }
   ],
   "source": [
    "import torch\n",
    "from vanilla_vae import VanillaVAE\n",
    "vae = VanillaVAE(1, 100)\n",
    "x = torch.randn(3, 1, 64, 64)\n",
    "recons, mu, log_var = vae(x)\n",
    "print(recons.size(), mu.size(), log_var.size())"
   ]
  },
  {
   "cell_type": "code",
   "execution_count": null,
   "metadata": {},
   "outputs": [],
   "source": []
  }
 ],
 "metadata": {
  "kernelspec": {
   "display_name": "Python 3.9.12 ('tf25')",
   "language": "python",
   "name": "python3"
  },
  "language_info": {
   "codemirror_mode": {
    "name": "ipython",
    "version": 3
   },
   "file_extension": ".py",
   "mimetype": "text/x-python",
   "name": "python",
   "nbconvert_exporter": "python",
   "pygments_lexer": "ipython3",
   "version": "3.9.12"
  },
  "orig_nbformat": 4,
  "vscode": {
   "interpreter": {
    "hash": "e2cd6330df87933e268d4b1d5797575da50d54717d7327a2d2e545dc9a1c6c69"
   }
  }
 },
 "nbformat": 4,
 "nbformat_minor": 2
}
